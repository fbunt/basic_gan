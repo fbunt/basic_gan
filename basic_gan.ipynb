{
 "cells": [
  {
   "cell_type": "code",
   "execution_count": null,
   "metadata": {},
   "outputs": [],
   "source": [
    "from IPython.display import HTML\n",
    "import matplotlib.animation as animation\n",
    "import matplotlib.pyplot as plt\n",
    "import numpy as np\n",
    "import os\n",
    "import torch\n",
    "import torch.functional as F\n",
    "import torch.nn as nn\n",
    "import torchvision\n",
    "import torchvision.transforms as tvtransforms\n",
    "import torchvision.utils as vutils"
   ]
  },
  {
   "cell_type": "code",
   "execution_count": null,
   "metadata": {},
   "outputs": [],
   "source": [
    "# Batch size\n",
    "bsize = 64\n",
    "# number of epochs\n",
    "epochs = 10\n",
    "# learning rate\n",
    "alpha = 0.0002\n",
    "# beta1\n",
    "beta1 = 0.5\n",
    "# beta2\n",
    "beta2 = 0.999\n",
    "# Z vector size\n",
    "nz = 100\n",
    "\n",
    "# Channels, H, W\n",
    "img_shape = (1, 28, 28)\n",
    "device = torch.device(\"cuda:0\" if torch.cuda.is_available() else \"cpu\")"
   ]
  },
  {
   "cell_type": "code",
   "execution_count": null,
   "metadata": {},
   "outputs": [],
   "source": [
    "os.makedirs(\"data/mnist\", exist_ok=True)\n",
    "dataloader = torch.utils.data.DataLoader(\n",
    "    torchvision.datasets.MNIST(\n",
    "        \"data/mnist\",\n",
    "        train=True,\n",
    "        download=True,\n",
    "        transform=tvtransforms.Compose(\n",
    "            [tvtransforms.ToTensor(), tvtransforms.Normalize([0.5], [0.5])]\n",
    "        ),\n",
    "    ),\n",
    "    batch_size=bsize,\n",
    "    drop_last=True,\n",
    "    num_workers=2,\n",
    "    shuffle=True,\n",
    ")"
   ]
  },
  {
   "cell_type": "code",
   "execution_count": null,
   "metadata": {},
   "outputs": [],
   "source": [
    "def discriminator_loss(D_real, D_fake):\n",
    "    return(-torch.mean(torch.log(D_real) + torch.log(1-D_fake)))\n",
    "\n",
    "def generator_loss(D_fake):\n",
    "    return(torch.mean(-torch.log(D_fake)))\n"
   ]
  },
  {
   "cell_type": "code",
   "execution_count": null,
   "metadata": {},
   "outputs": [],
   "source": [
    "class Generator(nn.Module):\n",
    "    def __init__(self):\n",
    "        super(Generator, self).__init__()\n",
    "        \n",
    "        self.model = nn.Sequential(\n",
    "            nn.Linear(nz, 128),\n",
    "            nn.LeakyReLU(0.2, inplace=True),\n",
    "            \n",
    "            nn.Linear(128, 256),\n",
    "            nn.BatchNorm1d(256),\n",
    "            nn.LeakyReLU(0.2, inplace=True),\n",
    "            \n",
    "            nn.Linear(256, 512),\n",
    "            nn.BatchNorm1d(512),\n",
    "            nn.LeakyReLU(0.2, inplace=True),\n",
    "\n",
    "            nn.Linear(512, 1024),\n",
    "            nn.BatchNorm1d(1024),\n",
    "            nn.LeakyReLU(0.2, inplace=True),\n",
    "            \n",
    "            # Map to desired image size\n",
    "            nn.Linear(1024, int(np.prod(img_shape))),\n",
    "            nn.Tanh(),\n",
    "        )\n",
    "        \n",
    "    def forward(self, z):\n",
    "        # img is flat and needs to be reshaped\n",
    "        img = self.model(z)\n",
    "        # reshape to (batch_size, channels, H, W)\n",
    "        img = img.view(img.size(0), *img_shape)\n",
    "        return img\n",
    "    "
   ]
  },
  {
   "cell_type": "code",
   "execution_count": null,
   "metadata": {},
   "outputs": [],
   "source": [
    "class Discriminator(nn.Module):\n",
    "    def __init__(self):\n",
    "        super(Discriminator, self).__init__()\n",
    "        \n",
    "        self.model = nn.Sequential(\n",
    "            nn.Linear(int(np.prod(img_shape)), 512),\n",
    "            nn.LeakyReLU(0.2, inplace=True),\n",
    "            nn.Linear(512, 256),\n",
    "            nn.BatchNorm1d(256),\n",
    "            nn.LeakyReLU(0.2, inplace=True),\n",
    "            nn.Linear(256, 1),\n",
    "            nn.Sigmoid()\n",
    "        )\n",
    "    \n",
    "    def forward(self, img):\n",
    "        return self.model(img.view(img.size(0), -1))"
   ]
  },
  {
   "cell_type": "code",
   "execution_count": null,
   "metadata": {},
   "outputs": [],
   "source": [
    "gen_model = Generator().to(device)\n",
    "print(gen_model)\n",
    "\n",
    "disc_model = Discriminator().to(device)\n",
    "print(disc_model)\n",
    "\n",
    "gen_opt = torch.optim.Adam(gen_model.parameters(), lr=alpha, betas=(beta1, beta2))\n",
    "disc_opt = torch.optim.Adam(disc_model.parameters(), lr=alpha, betas=(beta1, beta2))"
   ]
  },
  {
   "cell_type": "code",
   "execution_count": null,
   "metadata": {
    "scrolled": true
   },
   "outputs": [],
   "source": [
    "g_losses = []\n",
    "d_losses = []\n",
    "fixed_img_list = []\n",
    "fixed_z_vecs = torch.randn(64, nz, device=device)\n",
    "iters = 0\n",
    "\n",
    "for epoch in range(epochs):\n",
    "    for i, (real_imgs, _) in enumerate(dataloader, 0):\n",
    "        # Run D on real images and get contribution to loss\n",
    "        disc_model.zero_grad()\n",
    "        real_imgs = real_imgs.to(device)\n",
    "        D_real = disc_model(real_imgs)\n",
    "               \n",
    "        # Run D on generated fake images and update D's weights\n",
    "        z_sample = torch.randn(bsize, nz, device=device)\n",
    "        fake_imgs = gen_model(z_sample)\n",
    "        D_fake = disc_model(fake_imgs.detach())\n",
    "        \n",
    "        disc_err = discriminator_loss(D_real, D_fake)\n",
    "        disc_err.backward()\n",
    "        disc_opt.step()\n",
    "        \n",
    "        # Update G by maximizing log(D(G(z))) where \n",
    "        gen_model.zero_grad()\n",
    "        D_fake = disc_model(fake_imgs)\n",
    "        \n",
    "        gen_err = generator_loss(D_fake)\n",
    "        gen_err.backward()\n",
    "        gen_opt.step()\n",
    "        \n",
    "        if i % 100 == 0:\n",
    "            print(\n",
    "                \"[{}/{}][{}/{}]\"\n",
    "                .format(\n",
    "                    epoch, epochs, i, len(dataloader)\n",
    "                )\n",
    "            )\n",
    "        if (iters % 500 == 0) or ((epoch == epochs - 1) and (i == len(dataloader) - 1)):\n",
    "            with torch.no_grad():\n",
    "                fake = gen_model(fixed_z_vecs).detach().cpu()\n",
    "            fixed_img_list.append(vutils.make_grid(fake, padding=2, normalize=True))\n",
    "\n",
    "        g_losses.append(gen_err.item())\n",
    "        d_losses.append(disc_err.item())\n",
    "        iters += 1"
   ]
  },
  {
   "cell_type": "code",
   "execution_count": null,
   "metadata": {},
   "outputs": [],
   "source": [
    "plt.figure(figsize=(10,5))\n",
    "plt.title(\"Generator and Discriminator Loss During Training\")\n",
    "plt.plot(g_losses,label=\"G\")\n",
    "plt.plot(d_losses,label=\"D\")\n",
    "plt.xlabel(\"iterations\")\n",
    "plt.ylabel(\"Loss\")\n",
    "plt.legend()\n",
    "plt.show()"
   ]
  },
  {
   "cell_type": "code",
   "execution_count": null,
   "metadata": {},
   "outputs": [],
   "source": [
    "fig = plt.figure(figsize=(8,8))\n",
    "plt.axis(\"off\")\n",
    "ims = [[plt.imshow(np.transpose(i,(1,2,0)), animated=True)] for i in fixed_img_list]\n",
    "ani = animation.ArtistAnimation(fig, ims, interval=1000, repeat_delay=1000, blit=True)\n",
    "\n",
    "HTML(ani.to_jshtml())"
   ]
  },
  {
   "cell_type": "code",
   "execution_count": null,
   "metadata": {},
   "outputs": [],
   "source": []
  }
 ],
 "metadata": {
  "kernelspec": {
   "display_name": "Python 3",
   "language": "python",
   "name": "python3"
  },
  "language_info": {
   "codemirror_mode": {
    "name": "ipython",
    "version": 3
   },
   "file_extension": ".py",
   "mimetype": "text/x-python",
   "name": "python",
   "nbconvert_exporter": "python",
   "pygments_lexer": "ipython3",
   "version": "3.6.7"
  }
 },
 "nbformat": 4,
 "nbformat_minor": 4
}
